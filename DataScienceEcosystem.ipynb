{
 "cells": [
  {
   "cell_type": "markdown",
   "id": "33c209a2-2d29-4702-887a-951e02b49daf",
   "metadata": {},
   "source": [
    "# Data Science Tools and Ecosystem"
   ]
  },
  {
   "cell_type": "markdown",
   "id": "fa12c07a-2739-49b2-84eb-549582ad7813",
   "metadata": {},
   "source": [
    "In this notebook, Data Science Tools and Ecosystem are summarized."
   ]
  },
  {
   "cell_type": "markdown",
   "id": "399cb648-e676-4cc4-806e-28edd67b1227",
   "metadata": {},
   "source": [
    "**Objectives:**\n",
    "- list popular languages for data science (ds)\n",
    "- list popular libraries for ds \n",
    "- list popular tools for ds \n",
    "- explore basic arithmetic operations\n"
   ]
  },
  {
   "cell_type": "markdown",
   "id": "6fd0271a-aef1-4d33-b704-52cf03bfc687",
   "metadata": {},
   "source": [
    "Some of the popular languages that Data Scientists use are:\n",
    "1. Python\n",
    "2. R\n",
    "3. SQL\n",
    "4. Julia"
   ]
  },
  {
   "cell_type": "markdown",
   "id": "76c039f7-3caf-4e11-ae8f-c8dde5568192",
   "metadata": {},
   "source": [
    "Some of the commonly used libraries used by Data Scientists include:\n",
    "1. Pandas\n",
    "2. numpy\n",
    "3. scipy\n",
    "4. matplotlib \n",
    "5. scikit-learn"
   ]
  },
  {
   "cell_type": "markdown",
   "id": "5befb5cc-fece-4da4-8d58-973f91b4d3d6",
   "metadata": {},
   "source": [
    "| Data Science Tools |\n",
    "|-------|\n",
    "| Jupyter IDE |\n",
    "| Apache Zeppelin | \n",
    "| Spyder | "
   ]
  },
  {
   "cell_type": "markdown",
   "id": "598f223c-c727-40b5-92b2-fd466febb2f9",
   "metadata": {},
   "source": [
    "### Below are a few examples of evaluating arithmetic expressions in Python\n",
    "\n",
    "x = 32 <br>\n",
    "y = 17\n",
    "  \n",
    "add = x + y <br>\n",
    "substract = x - y <br>\n",
    "multiply = x * y <br>\n",
    "divide = x / y <br>\n",
    "quotient = x // y <br>\n",
    "remainder = x % y <br>\n",
    "exponents = x ** y "
   ]
  },
  {
   "cell_type": "code",
   "execution_count": 2,
   "id": "7227eec6-847d-4772-8987-4ae3eff9abca",
   "metadata": {},
   "outputs": [
    {
     "data": {
      "text/plain": [
       "17"
      ]
     },
     "execution_count": 2,
     "metadata": {},
     "output_type": "execute_result"
    }
   ],
   "source": [
    "#This a simple arithmetic expression to mutiply then add integers\n",
    "(3*4)+5"
   ]
  },
  {
   "cell_type": "code",
   "execution_count": 5,
   "id": "00788201-96f6-45de-88e0-8a6f79e2444b",
   "metadata": {},
   "outputs": [
    {
     "name": "stdout",
     "output_type": "stream",
     "text": [
      "3.3333333333333335\n"
     ]
    }
   ],
   "source": [
    "#This will convert 200 minutes to hours by diving by 60\n",
    "minutes = 200\n",
    "hours = minutes/60\n",
    "print(hours)"
   ]
  },
  {
   "cell_type": "markdown",
   "id": "a2f15fc2-59e4-442f-9fa1-56fc54e39521",
   "metadata": {},
   "source": [
    "## Author\n",
    "\n"
   ]
  }
 ],
 "metadata": {
  "kernelspec": {
   "display_name": "Python 3 (ipykernel)",
   "language": "python",
   "name": "python3"
  },
  "language_info": {
   "codemirror_mode": {
    "name": "ipython",
    "version": 3
   },
   "file_extension": ".py",
   "mimetype": "text/x-python",
   "name": "python",
   "nbconvert_exporter": "python",
   "pygments_lexer": "ipython3",
   "version": "3.12.7"
  }
 },
 "nbformat": 4,
 "nbformat_minor": 5
}
